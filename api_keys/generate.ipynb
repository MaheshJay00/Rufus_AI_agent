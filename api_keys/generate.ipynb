{
 "cells": [
  {
   "cell_type": "code",
   "execution_count": 1,
   "metadata": {},
   "outputs": [
    {
     "name": "stdout",
     "output_type": "stream",
     "text": [
      "Generated API key: 52ee7f89ed16b07e49bc8422ed8a36ee99ccbc640caf294dcc58d60f12e3bccd\n"
     ]
    }
   ],
   "source": [
    "import secrets\n",
    "\n",
    "# Generate a 64-character hex key\n",
    "api_key = secrets.token_hex(32)\n",
    "print(f\"Generated API key: {api_key}\")\n"
   ]
  }
 ],
 "metadata": {
  "kernelspec": {
   "display_name": "Python 3",
   "language": "python",
   "name": "python3"
  },
  "language_info": {
   "codemirror_mode": {
    "name": "ipython",
    "version": 3
   },
   "file_extension": ".py",
   "mimetype": "text/x-python",
   "name": "python",
   "nbconvert_exporter": "python",
   "pygments_lexer": "ipython3",
   "version": "3.11.3"
  }
 },
 "nbformat": 4,
 "nbformat_minor": 2
}
